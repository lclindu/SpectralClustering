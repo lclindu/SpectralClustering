{
 "cells": [
  {
   "cell_type": "code",
   "execution_count": null,
   "metadata": {},
   "outputs": [],
   "source": [
    "import numpy as np\n",
    "from sklearn import cluster, covariance\n",
    "import matplotlib\n",
    "\n",
    "import matplotlib.pyplot as plt\n",
    "\n",
    "import os\n",
    "import scipy\n",
    "from scipy import interpolate\n",
    "\n",
    "\n",
    "import matplotlib.cm as cm\n",
    "import scipy.stats as stats\n",
    "\n",
    "import pandas as pd\n",
    "\n",
    "import scipy.io as sio"
   ]
  },
  {
   "cell_type": "code",
   "execution_count": null,
   "metadata": {},
   "outputs": [],
   "source": [
    "sorted_file = []\n",
    "sorted_file.append('/mnt/home/llc/TC/m-CB/goodtraces.txt')#### goodtraces location..need change.."
   ]
  },
  {
   "cell_type": "code",
   "execution_count": null,
   "metadata": {},
   "outputs": [],
   "source": [
    "print(sorted_file)"
   ]
  },
  {
   "cell_type": "code",
   "execution_count": null,
   "metadata": {},
   "outputs": [],
   "source": [
    "### load data\n",
    "###for goodtraces.txt \n",
    "\n",
    "# filename_data = '/mnt/home/llc2/PZC/第1-7组goodtrace/goodtraces.txt'  ###### goodtraces location...\n",
    "data = pd.DataFrame()\n",
    "for filename_data in sorted_file:\n",
    "    \n",
    "    datatemp = pd.read_csv(filename_data, header=None, delim_whitespace=True)\n",
    "    data = pd.concat((data, datatemp))\n",
    "    \n",
    "data = np.array(data.iloc[:, :], copy=False)\n",
    "mdata, ndata = data.shape\n",
    "\n",
    "print(mdata, ndata)"
   ]
  },
  {
   "cell_type": "code",
   "execution_count": null,
   "metadata": {},
   "outputs": [],
   "source": [
    "###count trace ,,split the goodtrace into single trace ---list DataDistandCondu,,,\n",
    "### according the distance gap to split traces \n",
    "\n",
    "distanceGap = 0.1\n",
    "NumTraces = 0\n",
    "DistDiff = np.diff(data[:, 0][:])\n",
    "TraceIndex = np.where(np.abs(DistDiff) > distanceGap)[0] + 1 #####cut by distance gap == 1 ,,,,may be need change !!\n",
    "NumTraces = TraceIndex.shape[0] + 1\n",
    "TraceIndex = TraceIndex.tolist()\n",
    "TraceIndex.append(mdata)\n",
    "\n",
    "DataDistandCondu = []\n",
    "DataDistandCondu.append(data[:TraceIndex[0], :])\n",
    "for i in range(NumTraces-1):\n",
    "    DataDistandCondu.append(data[TraceIndex[i]:TraceIndex[i+1], :])\n",
    "\n",
    "print(len(DataDistandCondu)) ####check the number of traces"
   ]
  },
  {
   "cell_type": "code",
   "execution_count": null,
   "metadata": {},
   "outputs": [],
   "source": [
    "ConduTraces = np.array(DataDistandCondu)"
   ]
  },
  {
   "cell_type": "code",
   "execution_count": null,
   "metadata": {},
   "outputs": [],
   "source": [
    "del DataDistandCondu, TraceIndex, DistDiff, data"
   ]
  },
  {
   "cell_type": "code",
   "execution_count": null,
   "metadata": {},
   "outputs": [],
   "source": [
    "import sys\n",
    "sys.path.append('./DataPro/')"
   ]
  },
  {
   "cell_type": "code",
   "execution_count": null,
   "metadata": {},
   "outputs": [],
   "source": [
    "import metrics as DataMetrics\n",
    "import ClusteringMethods as clm\n",
    "import FigPlot as Fplot\n",
    "import DataSelection as DataSel"
   ]
  },
  {
   "cell_type": "markdown",
   "metadata": {},
   "source": [
    "## global parameters"
   ]
  },
  {
   "cell_type": "code",
   "execution_count": null,
   "metadata": {},
   "outputs": [],
   "source": [
    "dataHistAll, dataHistAll_x = clm.getHist1D(ConduTraces, 900, ROI=(-8, 0.99))"
   ]
  },
  {
   "cell_type": "markdown",
   "metadata": {},
   "source": [
    "# show curve and 2d and 1d histograms"
   ]
  },
  {
   "cell_type": "code",
   "execution_count": null,
   "metadata": {},
   "outputs": [],
   "source": [
    "Fplot.plotCurve(ConduTraces[60:69])"
   ]
  },
  {
   "cell_type": "code",
   "execution_count": null,
   "metadata": {},
   "outputs": [],
   "source": [
    "Fplot.plot(ConduTraces, 4)"
   ]
  },
  {
   "cell_type": "code",
   "execution_count": null,
   "metadata": {},
   "outputs": [],
   "source": [
    "rangeH=((-0.2, 1.5), (-7, 0.3))"
   ]
  },
  {
   "cell_type": "code",
   "execution_count": null,
   "metadata": {},
   "outputs": [],
   "source": [
    "vmax = 1.0\n",
    "vmin = 0.0"
   ]
  },
  {
   "cell_type": "code",
   "execution_count": null,
   "metadata": {},
   "outputs": [],
   "source": [
    "ZeroAllTmp = np.zeros(NumTraces).astype(np.int)\n",
    "Fplot.plot2dCloudofClusters_2(ZeroAllTmp, ConduTraces,rangeH=rangeH, vmax=vmax, vmin=vmin, save=0, filename_data=None)"
   ]
  },
  {
   "cell_type": "code",
   "execution_count": null,
   "metadata": {},
   "outputs": [],
   "source": [
    "Fplot.plot_hist3Line(rangeH[1][0], rangeH[1][1], ZeroAllTmp, dataHistAll, dataHistAll_x)"
   ]
  },
  {
   "cell_type": "markdown",
   "metadata": {},
   "source": [
    "# Clustering histogram 1d"
   ]
  },
  {
   "cell_type": "markdown",
   "metadata": {},
   "source": [
    "# Note:, set the region of interest..ROI"
   ]
  },
  {
   "cell_type": "code",
   "execution_count": null,
   "metadata": {},
   "outputs": [],
   "source": [
    "lowlogG, highlogG = -7, -1 ######"
   ]
  },
  {
   "cell_type": "code",
   "execution_count": null,
   "metadata": {},
   "outputs": [],
   "source": [
    "labelList_5_1_SVD = clm.clusteringSVD(lowlogG, highlogG, dataHistAll_x, dataHistAll, 17)"
   ]
  },
  {
   "cell_type": "code",
   "execution_count": null,
   "metadata": {},
   "outputs": [],
   "source": [
    "CH_index_SVD = clm.plotCHI(labelList_5_1_SVD)"
   ]
  },
  {
   "cell_type": "code",
   "execution_count": null,
   "metadata": {},
   "outputs": [],
   "source": [
    "# Kopt = np.argmax(CH_index_SVD)\n",
    "Kopt = np.where(CH_index_SVD == CH_index_SVD.max())[0]\n",
    "print(Kopt.shape, Kopt)"
   ]
  },
  {
   "cell_type": "code",
   "execution_count": null,
   "metadata": {},
   "outputs": [],
   "source": [
    "Fplot.plot2dCloudofClusters_2(labelList_5_1_SVD[0][Kopt[0]], ConduTraces,rangeH = rangeH, vmax=vmax, vmin=vmin, save=0, filename_data=None)"
   ]
  },
  {
   "cell_type": "code",
   "execution_count": null,
   "metadata": {},
   "outputs": [],
   "source": [
    "Fplot.plot_hist3Line(-7,0.3,labelList_5_1_SVD[0][Kopt[0]], dataHistAll, dataHistAll_x)"
   ]
  },
  {
   "cell_type": "code",
   "execution_count": null,
   "metadata": {},
   "outputs": [],
   "source": [
    "Fplot.TimeSeq(labelList_5_1_SVD[0][Kopt[0]], Kopt[0]+2)"
   ]
  },
  {
   "cell_type": "code",
   "execution_count": null,
   "metadata": {},
   "outputs": [],
   "source": [
    "\n",
    "def GetResult(CH_index_SVD, labelList_5_1_SVD,ConduTraces=ConduTraces,\n",
    "              dataHistAll=dataHistAll,dataHistAll_x=dataHistAll_x):\n",
    "    Kopt = np.argmax(CH_index_SVD)\n",
    "\n",
    "    Fplot.plot2dCloudofClusters_2(labelList_5_1_SVD[0][Kopt], ConduTraces,rangeH = rangeH, vmax=vmax, vmin=vmin, save=0, filename_data=None)\n",
    "\n",
    "    Fplot.plot_hist3Line(-7,0.3,labelList_5_1_SVD[0][Kopt], dataHistAll, dataHistAll_x)\n",
    "\n",
    "    Fplot.TimeSeq(labelList_5_1_SVD[0][Kopt], Kopt+2)\n",
    "    return Kopt"
   ]
  },
  {
   "cell_type": "markdown",
   "metadata": {},
   "source": [
    "# Kmeans with different distance"
   ]
  },
  {
   "cell_type": "code",
   "execution_count": null,
   "metadata": {},
   "outputs": [],
   "source": [
    "# lowlogG, highlogG = -5, -1\n",
    "cbins = np.where((dataHistAll_x >= lowlogG) & (dataHistAll_x <= highlogG))[0]\n",
    "dataHistAll_6 = dataHistAll[:, cbins]"
   ]
  },
  {
   "cell_type": "code",
   "execution_count": null,
   "metadata": {},
   "outputs": [],
   "source": [
    "def FindConst(zeroAll):\n",
    "    index = []\n",
    "    for i in range(len(zeroAll)):\n",
    "        if(np.all(zeroAll[i] - zeroAll[i].mean() == 0) ):\n",
    "            index.append(i)\n",
    "    return np.array(index)"
   ]
  },
  {
   "cell_type": "code",
   "execution_count": null,
   "metadata": {},
   "outputs": [],
   "source": [
    "def FindConstStd(zeroAll):\n",
    "    index = []\n",
    "    for i in range(len(zeroAll)):\n",
    "        if(np.abs(zeroAll[i].std()) < 0.00001):\n",
    "            index.append(i)\n",
    "    return np.array(index)"
   ]
  },
  {
   "cell_type": "code",
   "execution_count": null,
   "metadata": {},
   "outputs": [],
   "source": [
    "from sklearn import preprocessing\n"
   ]
  },
  {
   "cell_type": "code",
   "execution_count": null,
   "metadata": {},
   "outputs": [],
   "source": [
    "FindConst(dataHistAll_6) ###DataMetrics.FindConst(dataHistAll)"
   ]
  },
  {
   "cell_type": "code",
   "execution_count": null,
   "metadata": {},
   "outputs": [],
   "source": [
    "FindConstStd(dataHistAll_6)"
   ]
  },
  {
   "cell_type": "code",
   "execution_count": null,
   "metadata": {},
   "outputs": [],
   "source": [
    "dataHistAll_6Scale = preprocessing.scale(dataHistAll_6, axis=1)####each sample scaling"
   ]
  },
  {
   "cell_type": "code",
   "execution_count": null,
   "metadata": {},
   "outputs": [],
   "source": [
    "labelList_5_1KmScale = clm.clusteringBtweenKmeans(lowlogG, highlogG, dataHistAll_x[cbins], dataHistAll_6Scale, 9)"
   ]
  },
  {
   "cell_type": "code",
   "execution_count": null,
   "metadata": {},
   "outputs": [],
   "source": [
    "VNC_Index, davies_bouldin_Index, calinski_harabasz_Index,Silhouette_Index = clm.plotIndex(labelList_5_1KmScale)"
   ]
  },
  {
   "cell_type": "code",
   "execution_count": null,
   "metadata": {},
   "outputs": [],
   "source": [
    "testChi = clm.plotCHI(labelList_5_1KmScale,)# 'euclidean')"
   ]
  },
  {
   "cell_type": "code",
   "execution_count": null,
   "metadata": {},
   "outputs": [],
   "source": [
    "GetResult(testChi, labelList_5_1KmScale)"
   ]
  },
  {
   "cell_type": "code",
   "execution_count": null,
   "metadata": {},
   "outputs": [],
   "source": [
    "testChi2 = clm.plotCHI(labelList_5_1KmScale, 'euclidean')"
   ]
  },
  {
   "cell_type": "markdown",
   "metadata": {},
   "source": [
    "### above prescale : kmeans may be equal to spectral clustering...!!!!"
   ]
  },
  {
   "cell_type": "markdown",
   "metadata": {},
   "source": [
    "#### below new distance test:::"
   ]
  },
  {
   "cell_type": "code",
   "execution_count": null,
   "metadata": {},
   "outputs": [],
   "source": [
    "labelListKmeans = []\n",
    "for i in range(2, 9):\n",
    "    CenterTmp, labes_KmeansTmp = clm.find_centers(dataHistAll_6, i, DataMetrics.DistanceFunCorre)###random,so not stable..\n",
    "    labelListKmeans.append(labes_KmeansTmp)"
   ]
  },
  {
   "cell_type": "code",
   "execution_count": null,
   "metadata": {},
   "outputs": [],
   "source": [
    "for i in range(0, 7):\n",
    "    Fplot.plotHistofClusters_perTrace(labelListKmeans[i],lowlogG, highlogG,dataHistAll, dataHistAll_x)"
   ]
  },
  {
   "cell_type": "code",
   "execution_count": null,
   "metadata": {},
   "outputs": [],
   "source": [
    "labelListKmeansCHI = clm.plotCHI([labelListKmeans, dataHistAll_6])"
   ]
  },
  {
   "cell_type": "code",
   "execution_count": null,
   "metadata": {},
   "outputs": [],
   "source": [
    "OptNum = GetResult(labelListKmeansCHI, [labelListKmeans, 1])"
   ]
  },
  {
   "cell_type": "code",
   "execution_count": null,
   "metadata": {},
   "outputs": [],
   "source": [
    "dataHistAll100, dataHistAll_x100 = clm.getHist1D(ConduTraces)"
   ]
  },
  {
   "cell_type": "code",
   "execution_count": null,
   "metadata": {},
   "outputs": [],
   "source": [
    "Fplot.plotHistofClusters_perTrace(labelListKmeans[OptNum],-7, 0.3,dataHistAll100, dataHistAll_x100)#####do not like a peak of each cluster"
   ]
  },
  {
   "cell_type": "markdown",
   "metadata": {},
   "source": [
    "# choose ROI from original data"
   ]
  },
  {
   "cell_type": "code",
   "execution_count": null,
   "metadata": {},
   "outputs": [],
   "source": [
    "DataChosen = DataSel.TracesSelect(-2, -6, ConduTraces,0.005)"
   ]
  },
  {
   "cell_type": "code",
   "execution_count": null,
   "metadata": {},
   "outputs": [],
   "source": [
    "DataChosen = np.array(DataChosen)"
   ]
  },
  {
   "cell_type": "code",
   "execution_count": null,
   "metadata": {},
   "outputs": [],
   "source": [
    "print(DataChosen[0].shape, NumTraces)####check if filter some traces?"
   ]
  },
  {
   "cell_type": "code",
   "execution_count": null,
   "metadata": {},
   "outputs": [],
   "source": [
    "DataChosen[0] = np.delete(ConduTraces, DataChosen[1])"
   ]
  },
  {
   "cell_type": "code",
   "execution_count": null,
   "metadata": {},
   "outputs": [],
   "source": [
    "Fplot.plot(DataChosen[0], 1653)"
   ]
  },
  {
   "cell_type": "code",
   "execution_count": null,
   "metadata": {},
   "outputs": [],
   "source": [
    "# DataChosenRd = DataSel.RelatvieDist(DataChosen[0])##\n",
    "###could change the ditance value....may not needed...be careful.."
   ]
  },
  {
   "cell_type": "code",
   "execution_count": null,
   "metadata": {},
   "outputs": [],
   "source": [
    "Fplot.plotCurve(DataChosen[0][50:80])"
   ]
  },
  {
   "cell_type": "code",
   "execution_count": null,
   "metadata": {},
   "outputs": [],
   "source": [
    "HistDatSel, HistDataSel_x = clm.getHist1D(DataChosen[0], cbins=400, ROI=(lowlogG, highlogG))"
   ]
  },
  {
   "cell_type": "code",
   "execution_count": null,
   "metadata": {},
   "outputs": [],
   "source": [
    "labelList_5_1_SVD_Sel = clm.clusteringSVD(lowlogG, highlogG, HistDataSel_x, HistDatSel, 17)"
   ]
  },
  {
   "cell_type": "code",
   "execution_count": null,
   "metadata": {},
   "outputs": [],
   "source": [
    "DataChosenCHI = clm.plotCHI(labelList_5_1_SVD_Sel)"
   ]
  },
  {
   "cell_type": "code",
   "execution_count": null,
   "metadata": {},
   "outputs": [],
   "source": [
    "OptNumChoosn = GetResult(DataChosenCHI, labelList_5_1_SVD_Sel,DataChosen[0],HistDatSel, HistDataSel_x )"
   ]
  },
  {
   "cell_type": "markdown",
   "metadata": {},
   "source": [
    "# multi plateau test\n",
    "ggggg"
   ]
  },
  {
   "cell_type": "code",
   "execution_count": null,
   "metadata": {},
   "outputs": [],
   "source": [
    "Fplot.plot2dCloudofClusters_2(np.zeros(len(DataChosen[0])), \n",
    "                              DataChosen[0], vmax=vmax, rangeH=rangeH)"
   ]
  },
  {
   "cell_type": "markdown",
   "metadata": {},
   "source": [
    "# note:set distance range;;;;,,,, just test!!"
   ]
  },
  {
   "cell_type": "code",
   "execution_count": null,
   "metadata": {},
   "outputs": [],
   "source": [
    "# data_hist_ibins[0]\n",
    "distRange = [0.01, 1.5]\n",
    "dataHistAllAug, dataHistAllAugScale = clm.getNewHist(ConduTraces, distRange, [lowlogG, highlogG])"
   ]
  },
  {
   "cell_type": "code",
   "execution_count": null,
   "metadata": {},
   "outputs": [],
   "source": [
    "FindConst(dataHistAllAug)"
   ]
  },
  {
   "cell_type": "code",
   "execution_count": null,
   "metadata": {},
   "outputs": [],
   "source": [
    "labellistAug_Km2d = clm.clusteringBtweenKmeans_2d(dataHistAllAug, 17)"
   ]
  },
  {
   "cell_type": "code",
   "execution_count": null,
   "metadata": {},
   "outputs": [],
   "source": [
    "labellistAug_Km2dCHI = clm.plotCHI(labellistAug_Km2d)"
   ]
  },
  {
   "cell_type": "code",
   "execution_count": null,
   "metadata": {},
   "outputs": [],
   "source": [
    "OptNumKm2dCHI = GetResult(labellistAug_Km2dCHI, labellistAug_Km2d)"
   ]
  },
  {
   "cell_type": "code",
   "execution_count": null,
   "metadata": {},
   "outputs": [],
   "source": [
    "labellistAugScale_Km2d = clm.clusteringBtweenKmeans_2d(dataHistAllAugScale, 17)"
   ]
  },
  {
   "cell_type": "code",
   "execution_count": null,
   "metadata": {},
   "outputs": [],
   "source": [
    "labellistAugScale_Km2dCHI = clm.plotCHI(labellistAugScale_Km2d)"
   ]
  },
  {
   "cell_type": "code",
   "execution_count": null,
   "metadata": {},
   "outputs": [],
   "source": [
    "OptNum_SK = GetResult(labellistAugScale_Km2dCHI, labellistAugScale_Km2d)"
   ]
  },
  {
   "cell_type": "code",
   "execution_count": null,
   "metadata": {},
   "outputs": [],
   "source": [
    "labellistAug = clm.clusteringBtweenSP_2d(dataHistAllAug, 17)"
   ]
  },
  {
   "cell_type": "code",
   "execution_count": null,
   "metadata": {},
   "outputs": [],
   "source": [
    "labellistAugScale = clm.clusteringBtweenSP_2d(dataHistAllAugScale, 17)"
   ]
  },
  {
   "cell_type": "code",
   "execution_count": null,
   "metadata": {},
   "outputs": [],
   "source": [
    "labellistAugCHI = clm.plotCHI(labellistAug)"
   ]
  },
  {
   "cell_type": "code",
   "execution_count": null,
   "metadata": {
    "scrolled": true
   },
   "outputs": [],
   "source": [
    "labellistAugCHIScale = clm.plotCHI(labellistAugScale)"
   ]
  },
  {
   "cell_type": "code",
   "execution_count": null,
   "metadata": {},
   "outputs": [],
   "source": [
    "OptNum_AS = GetResult(labellistAugCHIScale, labellistAugScale)"
   ]
  },
  {
   "cell_type": "code",
   "execution_count": null,
   "metadata": {},
   "outputs": [],
   "source": [
    "OptNum_A = GetResult(labellistAugCHI, labellistAug)"
   ]
  },
  {
   "cell_type": "code",
   "execution_count": null,
   "metadata": {},
   "outputs": [],
   "source": [
    "for i in range(7):\n",
    "    Fplot.plotHistofClusters_perTrace(labellistAug[0][i], -7, 0.3, dataHistAll, dataHistAll_x)"
   ]
  },
  {
   "cell_type": "code",
   "execution_count": null,
   "metadata": {},
   "outputs": [],
   "source": [
    "Fplot.plot_hist3Line(lowlogG, 0.3, labellistAug[0][3], dataHistAll, dataHistAll_x)"
   ]
  },
  {
   "cell_type": "code",
   "execution_count": null,
   "metadata": {},
   "outputs": [],
   "source": []
  }
 ],
 "metadata": {
  "kernelspec": {
   "display_name": "Python 3",
   "language": "python",
   "name": "python3"
  },
  "language_info": {
   "codemirror_mode": {
    "name": "ipython",
    "version": 3
   },
   "file_extension": ".py",
   "mimetype": "text/x-python",
   "name": "python",
   "nbconvert_exporter": "python",
   "pygments_lexer": "ipython3",
   "version": "3.6.7"
  }
 },
 "nbformat": 4,
 "nbformat_minor": 2
}
